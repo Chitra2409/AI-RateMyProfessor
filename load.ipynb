{
 "cells": [
  {
   "cell_type": "code",
   "execution_count": 22,
   "metadata": {},
   "outputs": [],
   "source": [
    "from dotenv import load_dotenv\n",
    "load_dotenv()\n",
    "import os\n",
    "from openai import OpenAI\n",
    "from pinecone import Pinecone, ServerlessSpec"
   ]
  },
  {
   "cell_type": "code",
   "execution_count": 17,
   "metadata": {},
   "outputs": [],
   "source": [
    "pc = Pinecone(api_key=os.getenv(\"PINECONE_API_KEY\"))\n",
    "pc.create_index(\n",
    "    name=\"rag\", dimension=1536, metric=\"cosine\", spec=ServerlessSpec(cloud=\"aws\", region=\"us-east-1\")\n",
    ")"
   ]
  },
  {
   "cell_type": "code",
   "execution_count": 20,
   "metadata": {},
   "outputs": [
    {
     "data": {
      "text/plain": [
       "[{'professor': 'Dr. Emily Chen',\n",
       "  'subject': 'Calculus II',\n",
       "  'stars': 5,\n",
       "  'review': 'Dr. Chen is an exceptional professor. She is extremely knowledgeable and passionate about the subject, and her explanations are clear and concise. The coursework is challenging but manageable, and she provides ample support during office hours. I highly recommend taking any course with Dr. Chen.'},\n",
       " {'professor': 'Professor John Smith',\n",
       "  'subject': 'Principles of Microeconomics',\n",
       "  'stars': 3,\n",
       "  'review': 'Professor Smith is knowledgeable about the subject matter, but his lectures can be dry and difficult to follow at times. The grading seems a bit subjective, and I wish he provided more feedback on assignments.'},\n",
       " {'professor': 'Dr. Sarah Lee',\n",
       "  'subject': 'Organic Chemistry I',\n",
       "  'stars': 4,\n",
       "  'review': 'Dr. Lee is passionate about the subject and really tries to help students understand the material. The lab component is well-organized, and she is always willing to answer questions during office hours. The exams are challenging, but fair.'},\n",
       " {'professor': 'Professor Mike Johnson',\n",
       "  'subject': 'Introduction to Psychology',\n",
       "  'stars': 3,\n",
       "  'review': \"Professor Johnson's lectures can be interesting, but he tends to go off on tangents. The textbook is essential for understanding the material, and the grading is heavily based on multiple-choice exams. I wish there were more opportunities for class participation and discussion.\"},\n",
       " {'professor': 'Dr. Jane Doe',\n",
       "  'subject': 'Introduction to Computer Science',\n",
       "  'stars': 5,\n",
       "  'review': \"Dr. Doe is an excellent professor. She explains the concepts clearly and is always available to help during office hours. The coursework is challenging but fair, and I feel like I've learned a lot in this class.\"},\n",
       " {'professor': 'Professor Alex Williams',\n",
       "  'subject': 'Intro to Sociology',\n",
       "  'stars': 4,\n",
       "  'review': 'Professor Williams is engaging and encourages class discussions. The reading materials are relevant and thought-provoking. My only complaint is that the grading can be a bit inconsistent at times.'},\n",
       " {'professor': 'Dr. Maria Gonzalez',\n",
       "  'subject': 'Organic Chemistry II',\n",
       "  'stars': 4,\n",
       "  'review': 'Dr. Gonzalez is extremely knowledgeable and passionate about the subject. The labs are well-designed, and she provides excellent support during office hours. The exams are challenging but fair.'},\n",
       " {'professor': 'Professor David Johnson',\n",
       "  'subject': 'American Government',\n",
       "  'stars': 3,\n",
       "  'review': \"Professor Johnson's lectures can be dry and difficult to stay engaged with. The course material is dense, and the exams focus heavily on memorization. I wish there were more opportunities for discussion and analysis.\"},\n",
       " {'professor': 'Dr. Lisa Zhang',\n",
       "  'subject': 'Biochemistry',\n",
       "  'stars': 5,\n",
       "  'review': 'Dr. Zhang is an amazing professor. She has a deep understanding of the subject matter and presents the material in a clear and engaging way. The labs are well-organized, and she is always available to provide additional support. I highly recommend taking any course with Dr. Zhang.'},\n",
       " {'professor': 'Professor Michael Martinez',\n",
       "  'subject': 'Intro to Marketing',\n",
       "  'stars': 4,\n",
       "  'review': \"Professor Martinez brings a wealth of real-world experience to the classroom. His lectures are informative and relevant, and he encourages class participation. The coursework is challenging but fair, and I feel like I've gained valuable insights into the field of marketing.\"},\n",
       " {'professor': 'Dr. Samantha Kim',\n",
       "  'subject': 'Molecular Biology',\n",
       "  'stars': 5,\n",
       "  'review': 'Dr. Kim is an exceptional professor. Her lectures are well-structured and engaging, and she has a knack for breaking down complex concepts in a way that is easy to understand. The lab work is challenging but rewarding, and she is always available to provide additional support and guidance.'},\n",
       " {'professor': 'Professor Olivia Davis',\n",
       "  'subject': 'Principles of Management',\n",
       "  'stars': 3,\n",
       "  'review': 'While Professor Davis is knowledgeable about the subject matter, her teaching style can be a bit dry and monotonous at times. The coursework is heavily focused on textbook readings and multiple-choice exams, which I find to be less engaging than more interactive learning activities.'},\n",
       " {'professor': 'Dr. Mark Nguyen',\n",
       "  'subject': 'Organic Chemistry I',\n",
       "  'stars': 4,\n",
       "  'review': 'Dr. Nguyen is a dedicated and knowledgeable professor. His lectures are well-organized and he is always willing to provide additional support during office hours. The lab component is challenging but rewarding, and I feel like I have a solid understanding of the material.'},\n",
       " {'professor': 'Professor Jessica Lee',\n",
       "  'subject': 'Introduction to Psychology',\n",
       "  'stars': 4,\n",
       "  'review': \"Professor Lee is an engaging and enthusiastic lecturer. She does an excellent job of relating the course material to real-world examples and encouraging class discussion. The assignments and exams are reasonable and I feel like I've gained a good understanding of the foundations of psychology.\"},\n",
       " {'professor': 'Dr. Robert Chen',\n",
       "  'subject': 'Calculus I',\n",
       "  'stars': 4,\n",
       "  'review': \"Dr. Chen is a knowledgeable and helpful professor. His explanations of the concepts are clear and concise, and he is always available to provide additional support during office hours. The coursework is challenging but fair, and I feel like I've developed a strong foundation in calculus.\"},\n",
       " {'professor': 'Professor Sophia Nguyen',\n",
       "  'subject': 'Introduction to Sociology',\n",
       "  'stars': 5,\n",
       "  'review': \"Professor Nguyen is an exceptional teacher. Her lectures are engaging and thought-provoking, and she does an excellent job of encouraging class discussion and critical thinking. The assignments and exams are reasonable and I feel like I've gained a deep understanding of the core concepts in sociology.\"},\n",
       " {'professor': 'Dr. David Lee',\n",
       "  'subject': 'Organic Chemistry II',\n",
       "  'stars': 4,\n",
       "  'review': \"Dr. Lee is a knowledgeable and dedicated professor. His lectures are well-organized and he is always willing to provide additional support during office hours. The lab component is challenging but rewarding, and I feel like I've developed a strong understanding of the material.\"},\n",
       " {'professor': 'Professor Emma Nguyen',\n",
       "  'subject': 'Introduction to Marketing',\n",
       "  'stars': 3,\n",
       "  'review': 'While Professor Nguyen is knowledgeable about the subject matter, her lectures can be a bit dry and difficult to stay engaged with. The coursework is heavily focused on textbook readings and multiple-choice exams, which I find to be less engaging than more interactive learning activities.'},\n",
       " {'professor': 'Dr. Michael Lee',\n",
       "  'subject': 'Molecular Biology',\n",
       "  'stars': 5,\n",
       "  'review': 'Dr. Lee is an exceptional professor. His lectures are engaging and he has a deep understanding of the subject matter. The lab work is challenging but rewarding, and he is always available to provide additional support and guidance. I highly recommend taking any course with Dr. Lee.'},\n",
       " {'professor': 'Professor Sarah Chen',\n",
       "  'subject': 'Principles of Management',\n",
       "  'stars': 4,\n",
       "  'review': \"Professor Chen brings a wealth of real-world experience to the classroom. Her lectures are informative and relevant, and she encourages class participation. The coursework is challenging but fair, and I feel like I've gained valuable insights into the field of management.\"},\n",
       " {'professor': 'Dr. Olivia Nguyen',\n",
       "  'subject': 'Biochemistry',\n",
       "  'stars': 5,\n",
       "  'review': 'Dr. Nguyen is an amazing professor. She has a deep understanding of the subject matter and presents the material in a clear and engaging way. The labs are well-organized, and she is always available to provide additional support. I highly recommend taking any course with Dr. Nguyen.'}]"
      ]
     },
     "execution_count": 20,
     "metadata": {},
     "output_type": "execute_result"
    }
   ],
   "source": [
    "import json\n",
    "data = json.load(open(\"reviews.json\"))\n",
    "data['reviews']"
   ]
  },
  {
   "cell_type": "code",
   "execution_count": 23,
   "metadata": {},
   "outputs": [],
   "source": [
    "processed_data = []\n",
    "client=OpenAI()\n",
    "\n",
    "for review in data['reviews']:\n",
    "    response = client.embeddings.create(\n",
    "        input = review['review'],\n",
    "        model= \"text-embedding-3-small\",\n",
    "    )\n",
    "    embedding = response.data[0].embedding\n",
    "    processed_data.append({\n",
    "        \"values\":embedding,\n",
    "        \"id\":review[\"professor\"],\n",
    "        \"metadata\":{\n",
    "            \"review\":review[\"review\"],\n",
    "            \"subject\":review[\"subject\"],\n",
    "            \"stars\":review[\"stars\"]\n",
    "        }\n",
    "    })"
   ]
  },
  {
   "cell_type": "code",
   "execution_count": 25,
   "metadata": {},
   "outputs": [
    {
     "data": {
      "text/plain": [
       "{'upserted_count': 21}"
      ]
     },
     "execution_count": 25,
     "metadata": {},
     "output_type": "execute_result"
    }
   ],
   "source": [
    "index =pc.Index('rag')\n",
    "index.upsert(\n",
    "    vectors=processed_data,\n",
    "    namespace=\"ns1\"\n",
    ")"
   ]
  }
 ],
 "metadata": {
  "kernelspec": {
   "display_name": "base",
   "language": "python",
   "name": "python3"
  },
  "language_info": {
   "codemirror_mode": {
    "name": "ipython",
    "version": 3
   },
   "file_extension": ".py",
   "mimetype": "text/x-python",
   "name": "python",
   "nbconvert_exporter": "python",
   "pygments_lexer": "ipython3",
   "version": "3.12.2"
  }
 },
 "nbformat": 4,
 "nbformat_minor": 2
}
